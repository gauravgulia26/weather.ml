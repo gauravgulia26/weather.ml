{
 "cells": [
  {
   "cell_type": "code",
   "execution_count": 25,
   "metadata": {},
   "outputs": [
    {
     "name": "stdout",
     "output_type": "stream",
     "text": [
      "                  created_at  entry_id  humidity  Pressure  temperatur\n",
      "0  2023-05-11T12:32:45+05:30         1        53       NaN        30.0\n",
      "1  2023-05-11T12:33:00+05:30         2        52       NaN        29.9\n",
      "2  2023-05-11T12:33:22+05:30         3        53       NaN        29.9\n",
      "3  2023-05-11T12:34:09+05:30         4        52       NaN        29.9\n",
      "4  2023-05-11T12:34:28+05:30         5        52       NaN        29.9\n"
     ]
    }
   ],
   "source": [
    "# Implemeting Random Forest Regression\n",
    "import numpy as np\n",
    "import pandas as pd\n",
    "import matplotlib.pyplot as plt\n",
    "from sklearn.impute import SimpleImputer\n",
    "data = pd.read_csv(\"feeds.csv\")\n",
    "sep = \"*\"*50\n",
    "print(data.head())\n",
    "X = data.iloc[:, 2:4].values\n",
    "y = data.iloc[:, 4].values\n"
   ]
  },
  {
   "cell_type": "code",
   "execution_count": 26,
   "metadata": {},
   "outputs": [
    {
     "name": "stdout",
     "output_type": "stream",
     "text": [
      "**************************************************\n",
      "[[  53.   1229.53]\n",
      " [  52.   1229.53]\n",
      " [  53.   1229.53]\n",
      " ...\n",
      " [  59.    968.  ]\n",
      " [  59.    968.  ]\n",
      " [  59.    968.  ]]\n"
     ]
    }
   ],
   "source": [
    "# taking care of missing data\n",
    "imputer = SimpleImputer(missing_values=np.nan, strategy='mean')\n",
    "imputer.fit(X[:, 1:2])\n",
    "X[:, 1:2] = imputer.transform(X[:, 1:2])\n",
    "print(sep)\n",
    "print(X)"
   ]
  },
  {
   "cell_type": "code",
   "execution_count": 27,
   "metadata": {},
   "outputs": [],
   "source": [
    "\n",
    "# # * spiltting into training set and test set\n",
    "from sklearn.model_selection import train_test_split\n",
    "x_train, x_test, y_train, y_test = train_test_split(\n",
    "    X, y, test_size=0.25, random_state=0)\n"
   ]
  },
  {
   "cell_type": "code",
   "execution_count": 28,
   "metadata": {},
   "outputs": [],
   "source": [
    "# # Using grid search to find the best model and the best parameters\n",
    "# from sklearn.ensemble import RandomForestRegressor\n",
    "# from sklearn.model_selection import GridSearchCV\n",
    "# parameters = [{'n_estimators': [10, 100, 300, 500, 700, 1000],\n",
    "#                'criterion:': ['absolute_error', 'squared_error', 'friedman_mse', 'poisson'],\n",
    "#                 'max_depth': [None, 10, 50, 100, 200, 300, 500, 700, 1000],\n",
    "#                 'min_samples_split': [2, 5, 10, 15, 20, 25, 30, 50, 100],\n",
    "#                 'min_samples_leaf': [1, 2, 5, 10, 15, 20, 25, 30, 50, 100],\n",
    "#                 'max_features': ['auto', 'sqrt', 'log2']}]\n",
    "# grid_search = GridSearchCV(estimator=RandomForestRegressor(),\n",
    "#                             param_grid=parameters,\n",
    "#                             scoring='neg_mean_squared_error',\n",
    "#                             cv=10,\n",
    "#                             n_jobs=-1)\n",
    "# grid_search.fit(x_train, y_train)\n",
    "# best_accuracy = grid_search.best_score_\n",
    "# best_parameters = grid_search.best_params_\n",
    "# print(sep)\n",
    "# print(best_accuracy)\n",
    "# print(sep)\n",
    "# print(best_parameters)"
   ]
  },
  {
   "cell_type": "code",
   "execution_count": 29,
   "metadata": {},
   "outputs": [
    {
     "name": "stdout",
     "output_type": "stream",
     "text": [
      "[34.82 32.73 35.2  ... 38.14 41.1  35.15]\n"
     ]
    }
   ],
   "source": [
    "from sklearn.ensemble import RandomForestRegressor\n",
    "regressor = RandomForestRegressor(n_estimators=3000, random_state=0)\n",
    "regressor.fit(x_train,y_train)\n",
    "y_pred = regressor.predict(x_train)\n",
    "print(y_pred)"
   ]
  },
  {
   "cell_type": "code",
   "execution_count": 30,
   "metadata": {},
   "outputs": [
    {
     "name": "stdout",
     "output_type": "stream",
     "text": [
      "[33.55]\n"
     ]
    }
   ],
   "source": [
    "# predicintg a new result\n",
    "print(regressor.predict([[59, 967]]))"
   ]
  },
  {
   "cell_type": "code",
   "execution_count": 44,
   "metadata": {},
   "outputs": [
    {
     "name": "stdout",
     "output_type": "stream",
     "text": [
      "**************************************************\n",
      "99.27%\n"
     ]
    }
   ],
   "source": [
    "# Printing the accuracy of the model\n",
    "from sklearn.metrics import r2_score\n",
    "print(sep)\n",
    "print(f\"{r2_score(y_train, y_pred)*100:.2f}%\")"
   ]
  }
 ],
 "metadata": {
  "kernelspec": {
   "display_name": "Python 3",
   "language": "python",
   "name": "python3"
  },
  "language_info": {
   "codemirror_mode": {
    "name": "ipython",
    "version": 3
   },
   "file_extension": ".py",
   "mimetype": "text/x-python",
   "name": "python",
   "nbconvert_exporter": "python",
   "pygments_lexer": "ipython3",
   "version": "3.11.3"
  },
  "orig_nbformat": 4
 },
 "nbformat": 4,
 "nbformat_minor": 2
}
